{
  "nbformat": 4,
  "nbformat_minor": 0,
  "metadata": {
    "colab": {
      "provenance": []
    },
    "kernelspec": {
      "name": "python3",
      "display_name": "Python 3"
    },
    "language_info": {
      "name": "python"
    }
  },
  "cells": [
    {
      "cell_type": "code",
      "execution_count": null,
      "metadata": {
        "id": "AHhUNNspXQFg"
      },
      "outputs": [],
      "source": [
        "!pip install azure-storage-blob # for storing in azure"
      ]
    },
    {
      "cell_type": "code",
      "source": [
        "import pandas as pd\n",
        "import numpy as np\n",
        "import requests\n",
        "from io import StringIO\n",
        "from azure.storage.blob import BlobServiceClient, BlobClient, ContainerClient"
      ],
      "metadata": {
        "id": "Gjkpmi6aXTH_"
      },
      "execution_count": null,
      "outputs": []
    },
    {
      "cell_type": "code",
      "source": [
        "import pandas as pd\n",
        "import io\n",
        "from datetime import datetime\n",
        "from azure.storage.blob import BlobServiceClient\n",
        "\n",
        "# Azure Blob Storage connection string and container name\n",
        "CONNECTION_STRING_AZURE_STORAGE = \"connection string\"\n",
        "CONTAINER_AZURE ='container name'\n",
        "blob_name = \"blob name\"\n",
        "\n",
        "# Create a BlobServiceClient object + get a blob client for specified job\n",
        "blob_service_client = BlobServiceClient.from_connection_string(CONNECTION_STRING_AZURE_STORAGE)\n",
        "blob_client = blob_service_client.get_blob_client(container=CONTAINER_AZURE, blob=blob_name)\n",
        "\n",
        "# Download the blob data as bytes and convert the bytes data to a dataframe\n",
        "blob_data = blob_client.download_blob().readall()\n",
        "df = pd.read_csv(io.BytesIO(blob_data))\n",
        "\n",
        "# TRANSFORMATIONS\n",
        "\n",
        "# Unified date format YYYY-MM-DD\n",
        "df['Date'] = pd.to_datetime(df['Date'], format='%d/%m/%Y')\n",
        "\n",
        "# Splitting the date into multiple units\n",
        "df['Year'] = df['Date'].dt.year\n",
        "df['Quarter'] = df['Date'].dt.quarter\n",
        "df['Month'] = df['Date'].dt.month\n",
        "df['Day'] = df['Date'].dt.day\n",
        "df['Hour'] = df['Date'].dt.hour\n",
        "\n",
        "# Removing NULL values\n",
        "df = df.dropna()\n",
        "\n",
        "# Removing Duplicate rows\n",
        "df = df.drop_duplicates()\n",
        "\n",
        "# Rename the column\n",
        "df = df.rename(columns={'Temperature': 'Temperature_Celsius'})\n",
        "\n",
        "# Use correct data types\n",
        "df = df.astype({\n",
        "    'Temperature_Celsius': 'float',\n",
        "    'Humidity_Percent': 'float',\n",
        "    'Rentals_Count': 'int'\n",
        "})\n",
        "\n",
        "# Adding new columns\n",
        "df['Total Rentals'] = df['Rental Data'] + df['Temperature']\n",
        "\n",
        "# Create a data mapping\n",
        "data_mapping = pd.DataFrame({\n",
        "    'Field Name': ['Temperature', 'Humidity', 'Rental Data', 'Total Rentals'],\n",
        "    'Data Type': ['float', 'float', 'int', 'int'],\n",
        "    'Description': ['Temperature in Celsius', 'Relative Humidity', 'Number of Bike Rentals', 'Total Rentals including Temperature'],\n",
        "    'Source Column': ['Temperature', 'Humidity', 'Rental Data', 'Temperature, Rental Data'],\n",
        "    'Destination Column': ['Temperature_Celsius', 'Humidity_Percent', 'Rentals_Count', 'Total_Rentals']\n",
        "})\n",
        "\n",
        "# Save data mapping to CSV\n",
        "data_mapping.to_csv('data_mapping.csv', index=False)\n",
        "\n",
        "# Print transformed DataFrame\n",
        "print(df)\n"
      ],
      "metadata": {
        "id": "tQ-KrrugXVAo"
      },
      "execution_count": null,
      "outputs": []
    }
  ]
}